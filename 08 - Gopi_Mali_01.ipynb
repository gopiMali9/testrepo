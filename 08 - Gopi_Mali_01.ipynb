{
 "cells": [
  {
   "cell_type": "markdown",
   "metadata": {},
   "source": [
    "1 . What are the key features of Python?"
   ]
  },
  {
   "cell_type": "code",
   "execution_count": 1,
   "metadata": {},
   "outputs": [],
   "source": [
    "#1)it doesnot require any prior compilation.\n",
    "#2)Python includes Object Oriented Language, High Level Programming.\n",
    "#3)simple to debug.\n",
    "#4)Free and open source. \n",
    "#5)Easy to write, learn, and read\n",
    "#6). It is also a scripting language, as it runs the code line by line sequentially. "
   ]
  },
  {
   "cell_type": "markdown",
   "metadata": {},
   "source": [
    "2 . What are the Data Types in Python?"
   ]
  },
  {
   "cell_type": "code",
   "execution_count": null,
   "metadata": {},
   "outputs": [],
   "source": [
    "#Basic Datatypes = int float,str, bool, complex, bytes - \n",
    "#Container Datatypes = list, tuples,set, dictionary - \n",
    "#User defined datatypes = class"
   ]
  },
  {
   "cell_type": "markdown",
   "metadata": {},
   "source": [
    "3 . What are local variables and global variables in Python?"
   ]
  },
  {
   "cell_type": "code",
   "execution_count": null,
   "metadata": {},
   "outputs": [],
   "source": [
    "#*** Global Variable : --> Declared outside the function. --> can be accessed from inside/outside the function. \n",
    "#*** Local variable : --> Declared inside the function. --> Cannot access the variable which is declared inside the function, if we try to access it outside the function."
   ]
  },
  {
   "cell_type": "markdown",
   "metadata": {},
   "source": [
    "4. How do you write comments in python? And Why Comments are important?"
   ]
  },
  {
   "cell_type": "code",
   "execution_count": null,
   "metadata": {},
   "outputs": [],
   "source": [
    "# Comments are written in python by hash function (#)\n",
    "# Importance of comments is for writing any note or anything for your understanding"
   ]
  },
  {
   "cell_type": "markdown",
   "metadata": {},
   "source": [
    "5. How to comment on multiple lines in python?"
   ]
  },
  {
   "cell_type": "code",
   "execution_count": null,
   "metadata": {},
   "outputs": [],
   "source": [
    "# Can comment by Docstring or by triple quote\n",
    "#eg-'''\n",
    "\n",
    "#  '''"
   ]
  },
  {
   "cell_type": "markdown",
   "metadata": {},
   "source": [
    "6. What do you mean by Python literals?"
   ]
  },
  {
   "cell_type": "code",
   "execution_count": null,
   "metadata": {},
   "outputs": [],
   "source": [
    "#String literal\n",
    "#Numeric literals\n",
    "#Boolean literals\n",
    "#Special literals\n",
    "#Literal collection"
   ]
  },
  {
   "cell_type": "markdown",
   "metadata": {},
   "source": [
    "7. What are different ways to assign value to variables?"
   ]
  },
  {
   "cell_type": "code",
   "execution_count": null,
   "metadata": {},
   "outputs": [],
   "source": [
    "#using assigning a conditional operator.\n",
    "#using direct assign."
   ]
  },
  {
   "cell_type": "markdown",
   "metadata": {},
   "source": [
    "8. What are the Escape Characters in python?\n"
   ]
  },
  {
   "cell_type": "code",
   "execution_count": null,
   "metadata": {},
   "outputs": [],
   "source": [
    "# Backslash & New line characters.\n"
   ]
  },
  {
   "cell_type": "markdown",
   "metadata": {},
   "source": [
    "9. Which are the different ways to perform string formatting? Explain with\n",
    "example."
   ]
  },
  {
   "cell_type": "code",
   "execution_count": null,
   "metadata": {},
   "outputs": [],
   "source": [
    "# Formatting with % operator\n",
    "# Formating with parentheses ( )\n",
    "# Formatting with ( ).format function\n",
    "# Formatting with function string. (f” ”)"
   ]
  },
  {
   "cell_type": "markdown",
   "metadata": {},
   "source": [
    "10. Write a program to print every character of a string entered by the user in a\n",
    "new line using a loop"
   ]
  },
  {
   "cell_type": "code",
   "execution_count": 6,
   "metadata": {},
   "outputs": [
    {
     "name": "stdout",
     "output_type": "stream",
     "text": [
      "S\n",
      "a\n",
      "m\n",
      "p\n",
      "l\n",
      "e\n",
      " \n",
      "S\n",
      "t\n",
      "r\n",
      "i\n",
      "n\n",
      "g\n"
     ]
    }
   ],
   "source": [
    "string = \"Sample String\"\n",
    "\n",
    "index = 0\n",
    "for char in string:\n",
    "    print(char)\n",
    "    index +=1"
   ]
  },
  {
   "cell_type": "markdown",
   "metadata": {},
   "source": [
    "11. Write a program to find the length of the string \"machine learning\" with and\n",
    "without using len function."
   ]
  },
  {
   "cell_type": "code",
   "execution_count": 30,
   "metadata": {},
   "outputs": [
    {
     "name": "stdout",
     "output_type": "stream",
     "text": [
      "length of string using len function: 16\n",
      "length of string without using len function: 16\n"
     ]
    }
   ],
   "source": [
    "str1 = \"machine learning\"\n",
    "\n",
    "print(\"length of string using len function:\" , len(str1 ))\n",
    "\n",
    "X = str1[0]\n",
    "Y = str1[-1]\n",
    "Z = str1.index(X) + str1.index(Y) + 1\n",
    "print(\"length of string without using len function:\",  Z)\n"
   ]
  },
  {
   "cell_type": "markdown",
   "metadata": {},
   "source": [
    "12. Write a program to check if the word 'orange' is present in the \"This is orange\n",
    "juice\"."
   ]
  },
  {
   "cell_type": "code",
   "execution_count": 31,
   "metadata": {},
   "outputs": [
    {
     "data": {
      "text/plain": [
       "True"
      ]
     },
     "execution_count": 31,
     "metadata": {},
     "output_type": "execute_result"
    }
   ],
   "source": [
    "str1 = \"This is orange juice\"\n",
    "str2 = \"orange\"\n",
    "\n",
    "str2 in str1"
   ]
  },
  {
   "cell_type": "markdown",
   "metadata": {},
   "source": [
    "13. Write a program to find the number of vowels, consonants, digits, and white\n",
    "space characters in a string."
   ]
  },
  {
   "cell_type": "code",
   "execution_count": 62,
   "metadata": {},
   "outputs": [
    {
     "name": "stdout",
     "output_type": "stream",
     "text": [
      "vowels is  6\n",
      "spaces is  3\n",
      "digits is 2\n",
      "consonants is 7\n"
     ]
    }
   ],
   "source": [
    "\n",
    "str1 = \"aeiTuu4v   5u\"\n",
    "str1 = str1.lower()\n",
    "number = ['0', '1', '2', '3', '4', '5', '6', '7', '8', '9']\n",
    "\n",
    "vowels = 0\n",
    "consonants = 0\n",
    "digits = 0\n",
    "spaces = 0\n",
    "\n",
    "\n",
    "for i in range(0, len(str1)) :\n",
    "    if (str1[i] == \"a\" or str1[i] == \"e\" or str1[i] == \"i\" or str1[i] == \"o\" or str1[i] == \"u\") :\n",
    "        vowels += 1\n",
    "    elif (str1[i] == \" \") :\n",
    "        spaces += 1\n",
    "    elif (str1[i] in number):\n",
    "        digits += 1\n",
    "    else:\n",
    "        consonants = len(str1)-vowels - spaces - digits\n",
    "\n",
    "\n",
    "print(\"vowels is \", vowels)\n",
    "print(\"spaces is \", spaces)\n",
    "print(\"digits is\" , digits)\n",
    "print(\"consonants is\" , consonants)"
   ]
  },
  {
   "cell_type": "markdown",
   "metadata": {},
   "source": [
    "14. Write a Python program to count Uppercase, Lowercase, special character,\n",
    "and numeric values in a given string."
   ]
  },
  {
   "cell_type": "code",
   "execution_count": 4,
   "metadata": {},
   "outputs": [
    {
     "name": "stdout",
     "output_type": "stream",
     "text": [
      "Upper case letters:  1\n",
      "\n",
      "Lower case letters:  17\n",
      "\n",
      "numbers:  0\n",
      "\n",
      "Special characters:  5\n"
     ]
    }
   ],
   "source": [
    "str=input(\"Please enter a string: \")\n",
    "upper, lower, num, special=0,0,0,0;\n",
    "for i in range(len(str)):\n",
    "  if(str[i]>='A' and str[i]<='Z'):\n",
    "     upper+=1\n",
    "  elif(str[i]>='a' and str[i]<='z'):\n",
    "     lower+=1\n",
    "  elif(str[i]>='1' and str[i]<='9'):\n",
    "      num+=1\n",
    "  else:\n",
    "      special+=1\n",
    "print(\"Upper case letters: \",upper)\n",
    "print(\"\\nLower case letters: \",lower)\n",
    "print(\"\\nnumbers: \",num)\n",
    "print(\"\\nSpecial characters: \",special)"
   ]
  },
  {
   "cell_type": "markdown",
   "metadata": {},
   "source": []
  },
  {
   "cell_type": "markdown",
   "metadata": {},
   "source": [
    "\n",
    "15.Write a program to make a new string with all the consonants deleted from the string \"Hello, have a good day\"."
   ]
  },
  {
   "cell_type": "code",
   "execution_count": 60,
   "metadata": {},
   "outputs": [
    {
     "name": "stdout",
     "output_type": "stream",
     "text": [
      "e\n",
      "o\n",
      "a\n",
      "e\n",
      "a\n",
      "o\n",
      "o\n",
      "a\n"
     ]
    }
   ],
   "source": [
    "string = \"Hello, have a good day\"\n",
    "   \n",
    "for i in range(0, len(string)) :\n",
    "    if (string[i] == \"a\" or string[i] == \"e\" or string[i] == \"i\" or string[i] == \"o\" or string[i] == \"u\") :\n",
    "        print(string[i],end=\"\\n\")\n",
    "   "
   ]
  },
  {
   "cell_type": "markdown",
   "metadata": {},
   "source": [
    "16. Write a Python program to remove the nth index character from a non-empty\n",
    "string."
   ]
  },
  {
   "cell_type": "code",
   "execution_count": 99,
   "metadata": {},
   "outputs": [
    {
     "data": {
      "text/plain": [
       "'velocty'"
      ]
     },
     "execution_count": 99,
     "metadata": {},
     "output_type": "execute_result"
    }
   ],
   "source": [
    "index = int(input(\"Please Type the index\"))\n",
    "string =input(\"please type the string\")\n",
    "str1 = string[index]\n",
    "str2 = string.replace(str1,\"\")\n",
    "str2"
   ]
  },
  {
   "cell_type": "markdown",
   "metadata": {},
   "source": [
    "17. Write a Python program to change a given string to a new string where the\n",
    "first and last characters have been exchanged."
   ]
  },
  {
   "cell_type": "code",
   "execution_count": 27,
   "metadata": {},
   "outputs": [
    {
     "name": "stdout",
     "output_type": "stream",
     "text": [
      "ghis is sample strinT\n"
     ]
    }
   ],
   "source": [
    "str1  = \"This is sample string\"\n",
    "\n",
    "New = str1[-1:] +  str1[1:-1] + str1[:1]\n",
    "\n",
    "print(New)"
   ]
  },
  {
   "cell_type": "markdown",
   "metadata": {},
   "source": [
    "18. Write a Python program to count the occurrences of each word in a given\n",
    "sentence."
   ]
  },
  {
   "cell_type": "code",
   "execution_count": 8,
   "metadata": {},
   "outputs": [
    {
     "name": "stdout",
     "output_type": "stream",
     "text": [
      "orange 1\n",
      "juice 1\n",
      "mango 1\n"
     ]
    }
   ],
   "source": [
    "string = \"orange juice mango\"\n",
    "str1 = string.split()\n",
    "\n",
    "\n",
    "list1 = []\n",
    "\n",
    "for i in str1 :\n",
    "    if i not in list1 :\n",
    "        list1.append(i)\n",
    "\n",
    "for i in list1:\n",
    "    string.count(i)\n",
    "    print(i , string.count(i) )"
   ]
  },
  {
   "cell_type": "markdown",
   "metadata": {},
   "source": [
    "19. How do you count the occurrence of a given character in a string?"
   ]
  },
  {
   "cell_type": "code",
   "execution_count": 14,
   "metadata": {},
   "outputs": [
    {
     "name": "stdout",
     "output_type": "stream",
     "text": [
      "Occurance of : p is : 2\n"
     ]
    }
   ],
   "source": [
    "str = input(\"Please type word\")\n",
    "inp = input(\"please type character\")\n",
    "\n",
    "print(\"Occurance of :\",inp, \"is :\", str.count(inp))"
   ]
  },
  {
   "cell_type": "markdown",
   "metadata": {},
   "source": [
    "20. Write a program to find last 10 characters of a string?"
   ]
  },
  {
   "cell_type": "code",
   "execution_count": 168,
   "metadata": {},
   "outputs": [
    {
     "data": {
      "text/plain": [
       "'ple string'"
      ]
     },
     "execution_count": 168,
     "metadata": {},
     "output_type": "execute_result"
    }
   ],
   "source": [
    "string = \"this is sample string\"\n",
    "string[-10::1]"
   ]
  },
  {
   "cell_type": "markdown",
   "metadata": {},
   "source": [
    "21. WAP to convert a given string to all uppercase if it contains at least 2\n",
    "uppercase characters in the first 4 characters."
   ]
  },
  {
   "cell_type": "code",
   "execution_count": 32,
   "metadata": {},
   "outputs": [
    {
     "name": "stdout",
     "output_type": "stream",
     "text": [
      "0\n",
      "1\n",
      "2\n",
      "3\n"
     ]
    }
   ],
   "source": [
    "for i in range (0,4) :\n",
    "    print(i)"
   ]
  },
  {
   "cell_type": "code",
   "execution_count": 34,
   "metadata": {},
   "outputs": [
    {
     "name": "stdout",
     "output_type": "stream",
     "text": [
      "TAAT JRJHGUERH\n"
     ]
    }
   ],
   "source": [
    "str = input(\"Please type the string\")\n",
    "index1 = 0\n",
    "for i in range(0,4) :\n",
    "    if str[i] >= 'A' and str[i] <= 'Z' :\n",
    "         index1 += 1\n",
    "if index1 >= 2 :\n",
    "    print(str.upper())\n",
    "else:\n",
    "    print(\"given string not cantain at least 2 uppercase characters in the first 4 character\")\n"
   ]
  },
  {
   "cell_type": "markdown",
   "metadata": {},
   "source": [
    "22. Write a Python program to remove a newline in Python."
   ]
  },
  {
   "cell_type": "code",
   "execution_count": 3,
   "metadata": {},
   "outputs": [
    {
     "name": "stdout",
     "output_type": "stream",
     "text": [
      "this is sample\n"
     ]
    }
   ],
   "source": [
    "str = \"\\n this is sample \\n\"\n",
    "print(str.strip())"
   ]
  },
  {
   "cell_type": "markdown",
   "metadata": {},
   "source": [
    "23. Write a Python program to swap commas and dots in a string\n",
    "○ Sample string: \"32.054,23\"\n",
    "○ Expected Output: \"32,054.23\""
   ]
  },
  {
   "cell_type": "code",
   "execution_count": 117,
   "metadata": {},
   "outputs": [
    {
     "name": "stdout",
     "output_type": "stream",
     "text": [
      "32,054.23\n"
     ]
    }
   ],
   "source": [
    "str1  = \"32.054,23\"\n",
    "\n",
    "New = str1[:2] + str1[6] + str1[3:6] + str1[2] + str1[7:]\n",
    "\n",
    "print(New)"
   ]
  },
  {
   "cell_type": "markdown",
   "metadata": {},
   "source": [
    "24. Write a Python program to find the first repeated character in a given string"
   ]
  },
  {
   "cell_type": "code",
   "execution_count": 223,
   "metadata": {},
   "outputs": [
    {
     "name": "stdout",
     "output_type": "stream",
     "text": [
      "The first occurance is : t\n"
     ]
    }
   ],
   "source": [
    "string = input(\"please input string\")\n",
    "string = string.lower()\n",
    "index1 = 0 \n",
    "for i in range(0,len(string)) :\n",
    "    if (string[i] in string[i+1:]) or (string[i] in string[:i]) :\n",
    "        index1 += 1\n",
    "        print(\"The first occurance is :\",string[i])\n",
    "        if index == 1 :\n",
    "            break\n",
    "        break"
   ]
  },
  {
   "cell_type": "markdown",
   "metadata": {},
   "source": [
    "25. Write a Python program to find the second most repeated word in a given\n",
    "string"
   ]
  },
  {
   "cell_type": "code",
   "execution_count": 24,
   "metadata": {},
   "outputs": [
    {
     "name": "stdout",
     "output_type": "stream",
     "text": [
      "a\n"
     ]
    }
   ],
   "source": [
    "string = \"a a b b c c c b b a a b\"\n",
    "string = string.split()\n",
    "\n",
    "first = 0\n",
    "second = 0\n",
    "for i in string :\n",
    "   if string.count(i) >= first :\n",
    "      first = string.count(i)\n",
    "   elif string.count(i) >= second :\n",
    "      second = string.count(i)\n",
    "      secondvalue = i\n",
    "\n",
    "print(secondvalue) \n",
    "      \n",
    "\n",
    "   \n",
    "      "
   ]
  },
  {
   "cell_type": "markdown",
   "metadata": {},
   "source": [
    "26. Python program to Count Even and Odd numbers in a string"
   ]
  },
  {
   "cell_type": "code",
   "execution_count": 15,
   "metadata": {},
   "outputs": [
    {
     "name": "stdout",
     "output_type": "stream",
     "text": [
      "Even no. is : 1\n",
      "Odd no is: 2\n"
     ]
    }
   ],
   "source": [
    "string = input(\"Enter the no.\")\n",
    "Even = 0\n",
    "Odd = 0\n",
    "\n",
    "for i in range(0,len(string)) :\n",
    "    if ( int(string[i]) % 2 ) == 0 :\n",
    "        Even += 1\n",
    "    else :\n",
    "        Odd += 1\n",
    "\n",
    "print(\"Even no. is :\", Even)\n",
    "print(\"Odd no is:\" , Odd)"
   ]
  },
  {
   "cell_type": "markdown",
   "metadata": {},
   "source": [
    "27. How do you check if a string contains only digits?"
   ]
  },
  {
   "cell_type": "code",
   "execution_count": 22,
   "metadata": {},
   "outputs": [
    {
     "name": "stdout",
     "output_type": "stream",
     "text": [
      "Given String not contain only digits \n"
     ]
    }
   ],
   "source": [
    "string = input(\"Please input string\")\n",
    "if string.isdigit() :\n",
    "    print(\"Given string contain oly digits\")\n",
    "else :\n",
    "    print(\"Given String not contain only digits \")"
   ]
  },
  {
   "cell_type": "markdown",
   "metadata": {},
   "source": [
    "28. How do you remove a given character/word from String?"
   ]
  },
  {
   "cell_type": "code",
   "execution_count": 25,
   "metadata": {},
   "outputs": [
    {
     "data": {
      "text/plain": [
       "'eegg'"
      ]
     },
     "execution_count": 25,
     "metadata": {},
     "output_type": "execute_result"
    }
   ],
   "source": [
    "string = input(\"please input string\")\n",
    "inp = input(\"please input character which has to remove\")\n",
    "string.replace(inp,\"\")"
   ]
  },
  {
   "cell_type": "markdown",
   "metadata": {},
   "source": [
    "29. Write a Python program to remove the characters which have odd index\n",
    "values of a given string"
   ]
  },
  {
   "cell_type": "code",
   "execution_count": 3,
   "metadata": {},
   "outputs": [
    {
     "data": {
      "text/plain": [
       "'Ti ssml ie'"
      ]
     },
     "execution_count": 3,
     "metadata": {},
     "output_type": "execute_result"
    }
   ],
   "source": [
    "string = \"This is sample size\"\n",
    "string[::2]"
   ]
  },
  {
   "cell_type": "code",
   "execution_count": 4,
   "metadata": {},
   "outputs": [
    {
     "name": "stdout",
     "output_type": "stream",
     "text": [
      "hsi apez\n"
     ]
    }
   ],
   "source": [
    "string = input(\"Please input string\")\n",
    "\n",
    "str1 = \"\"\n",
    "\n",
    "for i in range(0,len(string)) :\n",
    "    if (i % 2) == 1 :\n",
    "        if string[i] not in str1:\n",
    "            str1=str1+string[i]\n",
    "print(str1)\n",
    "   \n"
   ]
  },
  {
   "cell_type": "markdown",
   "metadata": {},
   "source": [
    "30. Write a Python function to reverses a string if its length is a multiple of 5"
   ]
  },
  {
   "cell_type": "code",
   "execution_count": 38,
   "metadata": {},
   "outputs": [
    {
     "name": "stdout",
     "output_type": "stream",
     "text": [
      "string is not multiple of 5 and here is string :- this is sample string\n"
     ]
    }
   ],
   "source": [
    "string = input(\"please input string\")\n",
    "\n",
    "len(string)\n",
    "\n",
    "if (len(string) % 5) == 0 :\n",
    "    print(\"String is multiple of 5 and here is reverse printing :-\" ,string[::-1])\n",
    "else :\n",
    "    print(\"string is not multiple of 5 and here is string :-\" , string)"
   ]
  },
  {
   "cell_type": "markdown",
   "metadata": {},
   "source": [
    "31. Write a Python program to format a number with a percentage(0.05 >> 5%)"
   ]
  },
  {
   "cell_type": "code",
   "execution_count": 112,
   "metadata": {},
   "outputs": [
    {
     "name": "stdout",
     "output_type": "stream",
     "text": [
      "7.000000000000001 Percentile\n"
     ]
    }
   ],
   "source": [
    "num = \"0.07\"\n",
    "num = float(num)\n",
    "format1 = num*100\n",
    "print(format1,\"Percentile\")\n",
    "\n"
   ]
  },
  {
   "cell_type": "markdown",
   "metadata": {},
   "source": [
    "32. Write a Python program to reverse words in a string"
   ]
  },
  {
   "cell_type": "code",
   "execution_count": 44,
   "metadata": {},
   "outputs": [
    {
     "name": "stdout",
     "output_type": "stream",
     "text": [
      "['important', 'is', 'this']\n"
     ]
    }
   ],
   "source": [
    "string = \"this is important\"\n",
    "string = string.split()\n",
    "string=string[::-1]\n",
    "print(string)"
   ]
  },
  {
   "cell_type": "markdown",
   "metadata": {},
   "source": [
    "33. Write a Python program to swap cases of a given string"
   ]
  },
  {
   "cell_type": "code",
   "execution_count": 53,
   "metadata": {},
   "outputs": [
    {
     "data": {
      "text/plain": [
       "'tHIS IS SAMPLE STRING'"
      ]
     },
     "execution_count": 53,
     "metadata": {},
     "output_type": "execute_result"
    }
   ],
   "source": [
    "string = \"This is sample string\"\n",
    "string.swapcase()"
   ]
  },
  {
   "cell_type": "markdown",
   "metadata": {},
   "source": [
    "34. Write a Python program to remove spaces from a given string"
   ]
  },
  {
   "cell_type": "code",
   "execution_count": 48,
   "metadata": {},
   "outputs": [
    {
     "data": {
      "text/plain": [
       "'ThisissampleString'"
      ]
     },
     "execution_count": 48,
     "metadata": {},
     "output_type": "execute_result"
    }
   ],
   "source": [
    "string = \"This is sample String\"\n",
    "str2 = string.split()\n",
    "str3 = \"\".join(str2)\n",
    "str3"
   ]
  },
  {
   "cell_type": "markdown",
   "metadata": {},
   "source": [
    "35. Write a Python program to remove duplicate characters of a given string"
   ]
  },
  {
   "cell_type": "code",
   "execution_count": 94,
   "metadata": {},
   "outputs": [
    {
     "name": "stdout",
     "output_type": "stream",
     "text": [
      "This ampletrng\n"
     ]
    }
   ],
   "source": [
    "string = \"This is sample string\"\n",
    "\n",
    "str1 =\"\"\n",
    "for i in string:\n",
    "    if i not in str1:\n",
    "        str1=str1+i\n",
    "print(str1)\n",
    "\n"
   ]
  },
  {
   "cell_type": "markdown",
   "metadata": {},
   "source": [
    "36. Write a Python Program to find the area of a circle"
   ]
  },
  {
   "cell_type": "code",
   "execution_count": 40,
   "metadata": {},
   "outputs": [
    {
     "name": "stdout",
     "output_type": "stream",
     "text": [
      "3.142857142857143\n"
     ]
    }
   ],
   "source": [
    "rad = input(\"radius of circle\")\n",
    "rad = int(rad)\n",
    "aoc = (22*rad*rad)/7\n",
    "print(aoc)"
   ]
  },
  {
   "cell_type": "markdown",
   "metadata": {},
   "source": [
    "37. Python Program to find Sum of squares of first n natural numbers"
   ]
  },
  {
   "cell_type": "code",
   "execution_count": 63,
   "metadata": {},
   "outputs": [
    {
     "name": "stdout",
     "output_type": "stream",
     "text": [
      "30.0\n"
     ]
    }
   ],
   "source": [
    "num1 = int(input(\"Please type integer\"))\n",
    "ans = (((num1)*(num1 + 1)*(2*num1+1))/6)\n",
    "print(ans)"
   ]
  },
  {
   "cell_type": "markdown",
   "metadata": {},
   "source": [
    "38. Python Program to find cube sum of first n natural numbers"
   ]
  },
  {
   "cell_type": "code",
   "execution_count": 64,
   "metadata": {},
   "outputs": [
    {
     "name": "stdout",
     "output_type": "stream",
     "text": [
      "9.0\n"
     ]
    }
   ],
   "source": [
    "num1 = int(input(\"Please type integer\"))\n",
    "ans = ((num1*num1)*(num1 + 1)*(num1 + 1))/4\n",
    "print(ans)"
   ]
  },
  {
   "cell_type": "markdown",
   "metadata": {},
   "source": [
    "\n",
    "39. Python Program to find simple interest and compound interest\n"
   ]
  },
  {
   "cell_type": "code",
   "execution_count": 12,
   "metadata": {},
   "outputs": [
    {
     "name": "stdout",
     "output_type": "stream",
     "text": [
      "\n"
     ]
    }
   ],
   "source": [
    "principal = float(input('Enter amount: '))\n",
    "time = float(input('Enter time:'))\n",
    "rate = float(input('Enter rate:'))\n",
    "\n",
    "\n",
    "simp_int = (principal*time*rate)/100\n",
    "comp_int = principal * ( (1+rate/100)**time - 1)\n",
    "\n",
    "print('Simple interest is: %f' % (simp_int))\n",
    "print('Compound interest is: %f' %(comp_int))"
   ]
  },
  {
   "cell_type": "markdown",
   "metadata": {},
   "source": [
    "40. Python program to check whether a number is Prime or not"
   ]
  },
  {
   "cell_type": "code",
   "execution_count": 28,
   "metadata": {},
   "outputs": [
    {
     "name": "stdout",
     "output_type": "stream",
     "text": [
      "given no : 13 is prime number\n"
     ]
    }
   ],
   "source": [
    "num1 = input(\"Enter the no. \")\n",
    "count = 0\n",
    "for i in range(1 , num1) :\n",
    "    if (num1 % i) == 0 :\n",
    "        count += 1\n",
    "    \n",
    "if count == 1:\n",
    "    print(\"given no :\",num1,\"is prime number\")\n",
    "else:\n",
    "    print(\"given no :\",num1,\"is not prime number\")"
   ]
  },
  {
   "cell_type": "markdown",
   "metadata": {},
   "source": []
  }
 ],
 "metadata": {
  "kernelspec": {
   "display_name": "Python 3.10.7 64-bit (microsoft store)",
   "language": "python",
   "name": "python3"
  },
  "language_info": {
   "codemirror_mode": {
    "name": "ipython",
    "version": 3
   },
   "file_extension": ".py",
   "mimetype": "text/x-python",
   "name": "python",
   "nbconvert_exporter": "python",
   "pygments_lexer": "ipython3",
   "version": "3.10.7"
  },
  "orig_nbformat": 4,
  "vscode": {
   "interpreter": {
    "hash": "a8f34006be81f45d045015f49dabd86eb70c1500105cb773c1dd4d8a5531a386"
   }
  }
 },
 "nbformat": 4,
 "nbformat_minor": 2
}
